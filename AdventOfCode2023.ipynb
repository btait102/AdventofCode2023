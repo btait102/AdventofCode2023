{
 "cells": [
  {
   "cell_type": "code",
   "execution_count": 2,
   "metadata": {},
   "outputs": [],
   "source": [
    "import numpy as np\n",
    "import itertools\n",
    "import math\n",
    "\n",
    "path = \"C:/Users/btait/OneDrive/Documents/AdventOfCode/AdventOfCode2023/PuzzleInputs/\""
   ]
  },
  {
   "cell_type": "markdown",
   "metadata": {},
   "source": [
    "# Day 1\n",
    "\n",
    "##Part 1\n",
    "\n",
    "\n",
    "Something is wrong with global snow production, and you've been selected to take a look. The Elves have even given you a map; on it, they've used stars to mark the top fifty locations that are likely to be having problems.\n",
    "\n",
    "You've been doing this long enough to know that to restore snow operations, you need to check all fifty stars by December 25th.\n",
    "\n",
    "Collect stars by solving puzzles. Two puzzles will be made available on each day in the Advent calendar; the second puzzle is unlocked when you complete the first. Each puzzle grants one star. Good luck!\n",
    "\n",
    "You try to ask why they can't just use a weather machine (\"not powerful enough\") and where they're even sending you (\"the sky\") and why your map looks mostly blank (\"you sure ask a lot of questions\") and hang on did you just say the sky (\"of course, where do you think snow comes from\") when you realize that the Elves are already loading you into a trebuchet (\"please hold still, we need to strap you in\").\n",
    "\n",
    "As they're making the final adjustments, they discover that their calibration document (your puzzle input) has been amended by a very young Elf who was apparently just excited to show off her art skills. Consequently, the Elves are having trouble reading the values on the document.\n",
    "\n",
    "The newly-improved calibration document consists of lines of text; each line originally contained a specific calibration value that the Elves now need to recover. On each line, the calibration value can be found by combining the first digit and the last digit (in that order) to form a single two-digit number.\n",
    "\n",
    "For example:\n",
    "\n",
    "1abc2\n",
    "pqr3stu8vwx\n",
    "a1b2c3d4e5f\n",
    "treb7uchet\n",
    "In this example, the calibration values of these four lines are 12, 38, 15, and 77. Adding these together produces 142.\n",
    "\n",
    "Consider your entire calibration document. What is the sum of all of the calibration values?"
   ]
  },
  {
   "cell_type": "code",
   "execution_count": 13,
   "metadata": {},
   "outputs": [
    {
     "data": {
      "text/plain": [
       "142"
      ]
     },
     "execution_count": 13,
     "metadata": {},
     "output_type": "execute_result"
    }
   ],
   "source": [
    "example = ['1abc2',\n",
    "'pqr3stu8vwx',\n",
    "'a1b2c3d4e5f',\n",
    "'treb7uchet']\n",
    "\n",
    "def Calibration(input):\n",
    "    Day1=[list(x) for x in input]\n",
    "\n",
    "    result = []\n",
    "\n",
    "    for calibration in Day1:\n",
    "        newcalibration=[]\n",
    "        for a in calibration:\n",
    "            try:\n",
    "                newcalibration.append(int(a))\n",
    "            except:\n",
    "                pass\n",
    "        newcalibration=[int(str(newcalibration[0])+str(newcalibration[-1]))]\n",
    "        result.append(newcalibration)\n",
    "\n",
    "    result2 = [item for sublist in result for item in sublist]\n",
    "\n",
    "\n",
    "    return sum(result2)\n",
    "\n",
    "Calibration(example)\n",
    "    "
   ]
  },
  {
   "cell_type": "code",
   "execution_count": 16,
   "metadata": {},
   "outputs": [
    {
     "data": {
      "text/plain": [
       "54159"
      ]
     },
     "execution_count": 16,
     "metadata": {},
     "output_type": "execute_result"
    }
   ],
   "source": [
    "\n",
    "with open(path + \"Day1.txt\", \"r\") as f:\n",
    "    Day1=[x for x in f.read().split(\"\\n\")]\n",
    "\n",
    "\n",
    "\n",
    "Calibration(Day1)"
   ]
  },
  {
   "cell_type": "markdown",
   "metadata": {},
   "source": [
    "Your calculation isn't quite right. It looks like some of the digits are actually spelled out with letters: one, two, three, four, five, six, seven, eight, and nine also count as valid \"digits\".\n",
    "\n",
    "Equipped with this new information, you now need to find the real first and last digit on each line. For example:\n",
    "\n",
    "two1nine\n",
    "eightwothree\n",
    "abcone2threexyz\n",
    "xtwone3four\n",
    "4nineeightseven2\n",
    "zoneight234\n",
    "7pqrstsixteen\n",
    "\n",
    "In this example, the calibration values are 29, 83, 13, 24, 42, 14, and 76. Adding these together produces 281."
   ]
  },
  {
   "cell_type": "code",
   "execution_count": 17,
   "metadata": {},
   "outputs": [],
   "source": [
    "example2 = ['two1nine','eightwothree','abcone2threexyz','xtwone3four','4nineeightseven2','zoneight234','7pqrstsixteen']"
   ]
  },
  {
   "cell_type": "code",
   "execution_count": 19,
   "metadata": {},
   "outputs": [
    {
     "data": {
      "text/plain": [
       "53866"
      ]
     },
     "execution_count": 19,
     "metadata": {},
     "output_type": "execute_result"
    }
   ],
   "source": [
    "\n",
    "def Calibration_2(input):\n",
    "\n",
    "\n",
    "    numbers_string = [ 'one',  '1', 'two','2','three','3','four','4','five','5','six','6','seven','7','eight','8','nine','9','zero','0']\n",
    "\n",
    "    text_to_number_dict = {\n",
    "    'one': '1',\n",
    "    'two': '2',\n",
    "    'three': '3',\n",
    "    'four': '4',\n",
    "    'five': '5',\n",
    "    'six': '6',\n",
    "    'seven': '7',\n",
    "    'eight': '8',\n",
    "    'nine': '9',\n",
    "    'zero': '0',\n",
    "    '1':1,'2':2,'3':3,'4':4,'5':5,'6':6,'7':7,'8':8,'9':9,'0':0}\n",
    "\n",
    "    output=[]\n",
    "\n",
    "    for calibration in input:\n",
    "        pos=[]\n",
    "        number=[]\n",
    "        #print(calibration)\n",
    "        for a in numbers_string:\n",
    "            if calibration.find(a) != -1:\n",
    "                pos.append(calibration.find(a))\n",
    "                number.append(a)\n",
    "        \n",
    "        for a in numbers_string:\n",
    "            if calibration.rfind(a) != -1:\n",
    "                pos.append(calibration.rfind(a))\n",
    "                number.append(a)\n",
    "\n",
    "\n",
    "        sortedlist = sorted(list(zip(pos,number)))\n",
    "        #print(sortedlist)\n",
    "   \n",
    "        firstlast = [sortedlist[0][1],sortedlist[-1][1]]\n",
    "        \n",
    "\n",
    "        CalibrationValue= int(str(text_to_number_dict.get(firstlast[0])) + str(text_to_number_dict.get(firstlast[1])))\n",
    "       # print(CalibrationValue)\n",
    "        output.append(CalibrationValue)\n",
    "\n",
    "    return sum(output)\n",
    "\n",
    "#Calibration_2(example2)\n",
    "Calibration_2(Day1)\n",
    "\n",
    "\n",
    "\n",
    "\n",
    "    "
   ]
  },
  {
   "cell_type": "markdown",
   "metadata": {},
   "source": [
    "# Day 2\n",
    "\n",
    "## Part 1\n",
    "You're launched high into the atmosphere! The apex of your trajectory just barely reaches the surface of a large island floating in the sky. You gently land in a fluffy pile of leaves. It's quite cold, but you don't see much snow. An Elf runs over to greet you.\n",
    "\n",
    "The Elf explains that you've arrived at Snow Island and apologizes for the lack of snow. He'll be happy to explain the situation, but it's a bit of a walk, so you have some time. They don't get many visitors up here; would you like to play a game in the meantime?\n",
    "\n",
    "As you walk, the Elf shows you a small bag and some cubes which are either red, green, or blue. Each time you play this game, he will hide a secret number of cubes of each color in the bag, and your goal is to figure out information about the number of cubes.\n",
    "\n",
    "To get information, once a bag has been loaded with cubes, the Elf will reach into the bag, grab a handful of random cubes, show them to you, and then put them back in the bag. He'll do this a few times per game.\n",
    "\n",
    "You play several games and record the information from each game (your puzzle input). Each game is listed with its ID number (like the 11 in Game 11: ...) followed by a semicolon-separated list of subsets of cubes that were revealed from the bag (like 3 red, 5 green, 4 blue).\n",
    "\n",
    "For example, the record of a few games might look like this:\n",
    "\n",
    "Game 1: 3 blue, 4 red; 1 red, 2 green, 6 blue; 2 green\n",
    "\n",
    "Game 2: 1 blue, 2 green; 3 green, 4 blue, 1 red; 1 green, 1 blue\n",
    "\n",
    "Game 3: 8 green, 6 blue, 20 red; 5 blue, 4 red, 13 green; 5 green, 1 red\n",
    "\n",
    "Game 4: 1 green, 3 red, 6 blue; 3 green, 6 red; 3 green, 15 blue, 14 red\n",
    "\n",
    "Game 5: 6 red, 1 blue, 3 green; 2 blue, 1 red, 2 green\n",
    "\n",
    "In game 1, three sets of cubes are revealed from the bag (and then put back again). The first set is 3 blue cubes and 4 red cubes; the second set is 1 red cube, 2 green cubes, and 6 blue cubes; the third set is only 2 green cubes.\n",
    "\n",
    "The Elf would first like to know which games would have been possible if the bag contained only 12 red cubes, 13 green cubes, and 14 blue cubes?\n",
    "\n",
    "In the example above, games 1, 2, and 5 would have been possible if the bag had been loaded with that configuration. However, game 3 would have been impossible because at one point the Elf showed you 20 red cubes at once; similarly, game 4 would also have been impossible because the Elf showed you 15 blue cubes at once. If you add up the IDs of the games that would have been possible, you get 8.\n",
    "\n",
    "Determine which games would have been possible if the bag had been loaded with only 12 red cubes, 13 green cubes, and 14 blue cubes. What is the sum of the IDs of those games?"
   ]
  },
  {
   "cell_type": "code",
   "execution_count": 59,
   "metadata": {},
   "outputs": [],
   "source": [
    "with open(path + \"Day2.txt\", \"r\") as f:\n",
    "    Day2=[x for x in f.read().split(\"\\n\")]\n",
    "\n",
    "Day2=[x.split(': ') for x in Day2]\n",
    "Day2_gamelist=[x[0] for x in Day2]\n",
    "\n",
    "Day2_results=[x[1].split('; ') for x in Day2]\n",
    "\n",
    "Day2_results=[[x.split(', ') for x in round] for round in Day2_results]\n",
    "Day2_results_formatted = [[[colour.split(' ') for colour in round] for round in game] for game in Day2_results]\n"
   ]
  },
  {
   "cell_type": "code",
   "execution_count": 84,
   "metadata": {},
   "outputs": [
    {
     "data": {
      "text/plain": [
       "[1,\n",
       " 2,\n",
       " 4,\n",
       " 7,\n",
       " 8,\n",
       " 11,\n",
       " 12,\n",
       " 13,\n",
       " 14,\n",
       " 17,\n",
       " 19,\n",
       " 25,\n",
       " 29,\n",
       " 30,\n",
       " 32,\n",
       " 34,\n",
       " 41,\n",
       " 43,\n",
       " 54,\n",
       " 56,\n",
       " 57,\n",
       " 60,\n",
       " 61,\n",
       " 62,\n",
       " 63,\n",
       " 67,\n",
       " 68,\n",
       " 70,\n",
       " 71,\n",
       " 72,\n",
       " 76,\n",
       " 78,\n",
       " 81,\n",
       " 82,\n",
       " 83,\n",
       " 84,\n",
       " 85,\n",
       " 88,\n",
       " 89,\n",
       " 90,\n",
       " 93,\n",
       " 94,\n",
       " 95,\n",
       " 97,\n",
       " 100]"
      ]
     },
     "execution_count": 84,
     "metadata": {},
     "output_type": "execute_result"
    }
   ],
   "source": [
    "game_number=1\n",
    "game_list=[]\n",
    "for game in Day2_results_formatted:\n",
    "    for round in game:\n",
    "        for colour in round:\n",
    "            #print(int(colour[0]))\n",
    "            if (colour[1]=='red' and int(colour[0])>12) | (colour[1]=='blue' and int(colour[0])>14) | (colour[1]=='green' and int(colour[0])>13) :\n",
    "                game_list.append(game_number)\n",
    "\n",
    "    game_number=game_number+1\n",
    "    \n",
    "game_list=list(dict.fromkeys(game_list))\n",
    "\n",
    "game_list\n",
    "\n",
    "#12 red cubes, 13 green cubes, and 14 blue cubes\n"
   ]
  },
  {
   "cell_type": "code",
   "execution_count": 89,
   "metadata": {},
   "outputs": [
    {
     "data": {
      "text/plain": [
       "2532"
      ]
     },
     "execution_count": 89,
     "metadata": {},
     "output_type": "execute_result"
    }
   ],
   "source": [
    "sum(range(1,100)) - sum(game_list)\n"
   ]
  }
 ],
 "metadata": {
  "kernelspec": {
   "display_name": "base",
   "language": "python",
   "name": "python3"
  },
  "language_info": {
   "codemirror_mode": {
    "name": "ipython",
    "version": 3
   },
   "file_extension": ".py",
   "mimetype": "text/x-python",
   "name": "python",
   "nbconvert_exporter": "python",
   "pygments_lexer": "ipython3",
   "version": "3.11.3"
  },
  "orig_nbformat": 4
 },
 "nbformat": 4,
 "nbformat_minor": 2
}
